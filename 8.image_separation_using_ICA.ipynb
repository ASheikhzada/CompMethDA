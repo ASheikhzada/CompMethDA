{
 "cells": [
  {
   "cell_type": "markdown",
   "id": "tight-target",
   "metadata": {},
   "source": [
    "## Lecture 19: implementing image separation using independent component analysis and SVD\n",
    "    Here we mix two images of the same size and then using ICA and SVD we try\n",
    "    to separate them to their original versions.\n",
    "    you can change the value of beta to make different mixings of the original images."
   ]
  },
  {
   "cell_type": "code",
   "execution_count": 1,
   "id": "rapid-retail",
   "metadata": {},
   "outputs": [
    {
     "name": "stdout",
     "output_type": "stream",
     "text": [
      "Using matplotlib backend: Qt5Agg\n",
      "Populating the interactive namespace from numpy and matplotlib\n"
     ]
    }
   ],
   "source": [
    "%pylab"
   ]
  },
  {
   "cell_type": "code",
   "execution_count": 5,
   "id": "finite-profit",
   "metadata": {},
   "outputs": [],
   "source": [
    "# Read the input images\n",
    "S1 = imread(\"Sharbat_Gula.jpg\")\n",
    "S2 = imread(\"building.jpg\")\n",
    "# figure(); imshow(S1)\n",
    "# figure(); imshow(S2)\n",
    "\n",
    "# Reduce the resolution of image S2 by slicing to (400,254,3)\n",
    "S2_r = S2[0:1536:3,0:2048:8,:]\n",
    "S2 = S2_r[0:400,0:254,:]  \n",
    "\n",
    "m,n,v = S1.shape\n",
    "\n",
    "# mixing matrix \n",
    "beta = 2/5\n",
    "A = array([[4/5,beta],[-2/5,3/4]])    \n",
    "\n",
    "# Create mixed matrices\n",
    "X1 = A[0,0]*S1 + A[0,1]*S2\n",
    "X2 = A[1,0]*S1 + A[1,1]*S2\n",
    "\n",
    "# do not have to reshape, but easy to appy the formula\n",
    "x1 = reshape(X1,(m*n*v),'F')    \n",
    "x2 = reshape(X2,(m*n*v),'F')\n",
    "\n",
    "x1 = x1-mean(x1)\n",
    "x2 = x2-mean(x2)"
   ]
  },
  {
   "cell_type": "markdown",
   "id": "straight-contents",
   "metadata": {},
   "source": [
    "theta0: the angle of maximal/minimal variance obtained from analytical formula <br>\n",
    "    $$\\theta_0=\\frac{1}{2}\\arctan{\\frac{-2\\sum x1 x2}{\\sum(x_2^2-x_1^2)}}$$ <br>\n",
    "Ustar:  the first rotaion matrix <br> \n",
    "$$U^* = \\begin{bmatrix}  \\cos\\theta_0 & \\sin\\theta_0 \\\\ -\\sin\\theta_0 & \\cos\\theta_0   \\end{bmatrix}$$ <br>\n",
    "sigma1($\\sigma_1$): eigenvalue in maximum directional variance <br>\n",
    "sigma2($\\sigma_2$): eigenvalue in minimum directional variance <br>\n",
    "Sigma_inv ($\\sum^{-1}$): inverse of Sigma matrix of SVD analysis <br>\n",
    "phi0 ($\\phi_0$):  is obtained by minimizing Kurtosis through analytical formula"
   ]
  },
  {
   "cell_type": "code",
   "execution_count": 6,
   "id": "starting-article",
   "metadata": {},
   "outputs": [
    {
     "data": {
      "text/plain": [
       "(<AxesSubplot:>, <matplotlib.image.AxesImage at 0x7f54f9849af0>)"
      ]
     },
     "execution_count": 6,
     "metadata": {},
     "output_type": "execute_result"
    }
   ],
   "source": [
    "theta0 = 0.5*arctan(-2*sum(x1*x2)/sum(x2**2-x1**2))   \n",
    "Ustar = array([[cos(theta0),sin(theta0)],[-sin(theta0),cos(theta0)]])  \n",
    "\n",
    "sigma1 = sum((cos(theta0)*x1+sin(theta0)*x2)**2)    \n",
    "sigma2 = sum((cos(theta0-pi/2)*x1+sin(theta0-pi/2)*x2)**2)   \n",
    "Sigma_inv = array([[1/sqrt(sigma1), 0],[0, 1/sqrt(sigma2)]]) \n",
    "\n",
    "# Form new matrices x1bar and x2bar\n",
    "x1bar = Sigma_inv[0,0]*(Ustar[0,0]*x1+Ustar[0,1]*x2)   \n",
    "x2bar = Sigma_inv[1,1]*(Ustar[1,0]*x1+Ustar[1,1]*x2)\n",
    "\n",
    "phi0 = (1/4)*arctan(-sum((2*x1bar**3*x2bar-2*x1bar*x2bar**3)/(x1bar**2+x2bar**2))/ \\\n",
    "                    sum((3*x1bar**2*x2bar**2-0.5*x1bar**4-0.5*x2bar**4)/\\\n",
    "                        (x1bar**2+x2bar**2)))\n",
    "V = array([[cos(phi0),sin(phi0)],[-sin(phi0),cos(phi0)]])\n",
    "\n",
    "s1 = V[0,0]*x1bar+V[0,1]*x2bar\n",
    "s2 = V[1,0]*x1bar+V[1,1]*x2bar\n",
    "\n",
    "# Transform s1 and s2 to have the range of 0-255 appropriate for rgb values\n",
    "s1 = s1 - min(s1)         \n",
    "s1 = s1*(255/max(s1))  \n",
    "\n",
    "s2 = s2 - min(s2)\n",
    "s2 = s2*(255/max(s2))\n",
    "\n",
    "S1_reconstructed = reshape(s1,(m,n,v),'F')\n",
    "S2_reconstructed = reshape(s2,(m,n,v),'F')\n",
    "\n",
    "figure()\n",
    "#original images\n",
    "subplot(3,2,1), imshow(S1) \n",
    "subplot(3,2,2), imshow(S2)\n",
    "# mixed images\n",
    "subplot(3,2,3), imshow(uint8(X1))               \n",
    "subplot(3,2,4), imshow(uint8(X2))\n",
    "# separated images\n",
    "subplot(3,2,5), imshow(uint8(S1_reconstructed))  \n",
    "subplot(3,2,6), imshow(uint8(S2_reconstructed))"
   ]
  },
  {
   "cell_type": "code",
   "execution_count": null,
   "id": "consistent-conflict",
   "metadata": {},
   "outputs": [],
   "source": []
  }
 ],
 "metadata": {
  "kernelspec": {
   "display_name": "Python 3",
   "language": "python",
   "name": "python3"
  },
  "language_info": {
   "codemirror_mode": {
    "name": "ipython",
    "version": 3
   },
   "file_extension": ".py",
   "mimetype": "text/x-python",
   "name": "python",
   "nbconvert_exporter": "python",
   "pygments_lexer": "ipython3",
   "version": "3.8.5"
  }
 },
 "nbformat": 4,
 "nbformat_minor": 5
}
