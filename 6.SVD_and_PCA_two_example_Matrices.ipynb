{
 "cells": [
  {
   "cell_type": "markdown",
   "id": "adaptive-sandwich",
   "metadata": {},
   "source": [
    "Lecture 13-16: Extracting the main components of a 2D matrix using SVD factorization and reconstructing it using its principal components (PCA)."
   ]
  },
  {
   "cell_type": "code",
   "execution_count": null,
   "id": "welsh-wheel",
   "metadata": {},
   "outputs": [],
   "source": [
    "%pylab"
   ]
  },
  {
   "cell_type": "markdown",
   "id": "dried-electric",
   "metadata": {},
   "source": [
    "First Example:"
   ]
  },
  {
   "cell_type": "code",
   "execution_count": null,
   "id": "cross-screen",
   "metadata": {},
   "outputs": [],
   "source": [
    "from mpl_toolkits.mplot3d import axes3d\n",
    "\n",
    "x = linspace(0,1,25)\n",
    "t = linspace(0,2,50)\n",
    "\n",
    "T,X = meshgrid(t,x)     # if change the order of X & T, interpreration of u and vh \n",
    "                            # would be different\n",
    "    \n",
    "f = exp(-abs((X-0.5)*(T-1))) + sin(X*T)   # original matrix (surface)\n",
    "\n",
    "fig = figure()\n",
    "ax = fig.add_subplot(2,2,1,projection = '3d')\n",
    "ax.plot_surface(X,T,f,cmap='gist_earth')\n",
    "ax.set_title('main matrix')\n",
    "\n",
    "u,s,vh = linalg.svd(f,full_matrices=False)\n",
    "\n",
    "print(\"u.shape: {} \\ns.shape: {} \\nvh.shape: {}\".format(u.shape,s.shape,vh.shape))\n",
    "\n",
    "figure()\n",
    "plot(s,'ro')\n",
    "\n",
    "# reconstructing using 3 main components\n",
    "for i in range(3):\n",
    "    ff = dot(u[:,:i+1]*s[:i+1],vh[:i+1,:])      \n",
    "    ax = fig.add_subplot(2,2,i+2,projection='3d')\n",
    "    ax.plot_surface(X,T,ff,cmap='gist_earth')\n",
    "    ax.set_title('using {} components'.format(i+1))\n",
    "    \n",
    "# energy portion of modes used to reconstruct f     \n",
    "energy_ratio = sqrt(sum(s[:2]**2))/sqrt(sum(s**2))  \n",
    "\n",
    "# first three spatial modes used above to reconstruct f\n",
    "plt.figure()\n",
    "plt.plot(x,u[:,0],'b-',x,u[:,1],'r-',x,u[:,2],'-g') ;\n",
    "plt.legend(['1st','2nd','3rd'])"
   ]
  },
  {
   "cell_type": "markdown",
   "id": "closing-proposition",
   "metadata": {},
   "source": [
    "Second Example:"
   ]
  },
  {
   "cell_type": "code",
   "execution_count": null,
   "id": "imported-pricing",
   "metadata": {},
   "outputs": [],
   "source": [
    "from mpl_toolkits.mplot3d import axes3d\n",
    "\n",
    "x = linspace(-10,10,100)\n",
    "t = linspace(0,10,30)\n",
    "\n",
    "X,T = meshgrid(x,t)\n",
    "\n",
    "f = (1-0.5*cos(2*T))/cosh(X) + (1-0.5*sin(2*T))*tanh(X)/cosh(X)\n",
    "\n",
    "fig1 = figure()\n",
    "ax1 = fig1.add_subplot(2,2,1,projection='3d')\n",
    "ax1.plot_wireframe(X,T,f,rstride=2,cstride=0)\n",
    "\n",
    "u,s,vh = linalg.svd(f,full_matrices=False)\n",
    "\n",
    "figure()\n",
    "plot(s,'ro')\n",
    "\n",
    "# reconstructing using 3 main components\n",
    "for j in range(3):\n",
    "    ff = dot(u[:,:j+1]*s[:j+1],vh[:j+1,:])\n",
    "    ax = fig1.add_subplot(2,2,j+2,projection='3d')\n",
    "    ax.plot_wireframe(X,T,ff,rstride=2,cstride=0)\n",
    "\n",
    "# main spatial modes\n",
    "figure()\n",
    "plot(x,vh[0,:],'b-',x,vh[1,:],'r-')     \n",
    "plt.title('main spatial modes')\n",
    "\n",
    "# main temporal modes\n",
    "figure()\n",
    "plot(t,u[:,0],t,u[:,1],t,u[:,2])        \n",
    "plt.title('main temporal modes')\n",
    "    \n",
    "energy_ratio = sqrt(sum(s[:2]**2))/sqrt(sum(s**2))\n",
    "print(\"energy ratio : {}\".format(energy_ratio))"
   ]
  }
 ],
 "metadata": {
  "kernelspec": {
   "display_name": "Python 3",
   "language": "python",
   "name": "python3"
  },
  "language_info": {
   "codemirror_mode": {
    "name": "ipython",
    "version": 3
   },
   "file_extension": ".py",
   "mimetype": "text/x-python",
   "name": "python",
   "nbconvert_exporter": "python",
   "pygments_lexer": "ipython3",
   "version": "3.8.5"
  }
 },
 "nbformat": 4,
 "nbformat_minor": 5
}
