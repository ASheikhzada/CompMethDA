{
 "cells": [
  {
   "cell_type": "markdown",
   "id": "flexible-belief",
   "metadata": {},
   "source": [
    "Lecture7: Mutlti-Resolution Analysis\n",
    "    By changing the width of the filtering window in time, we build a spectrum (frequency,time)\n",
    "    multi-resolution graph of the time signal. This analysis helps us understand the frequecy spectrum of each part of time signal."
   ]
  },
  {
   "cell_type": "code",
   "execution_count": 1,
   "id": "maritime-lightning",
   "metadata": {},
   "outputs": [
    {
     "name": "stdout",
     "output_type": "stream",
     "text": [
      "Using matplotlib backend: Qt5Agg\n",
      "Populating the interactive namespace from numpy and matplotlib\n"
     ]
    }
   ],
   "source": [
    "%pylab"
   ]
  },
  {
   "cell_type": "code",
   "execution_count": 32,
   "id": "turned-leader",
   "metadata": {},
   "outputs": [
    {
     "data": {
      "text/plain": [
       "Text(0.5, 0.92, 'Multi-Resolution Analysis (Time-Frequecny Spectrum)')"
      ]
     },
     "execution_count": 32,
     "metadata": {},
     "output_type": "execute_result"
    }
   ],
   "source": [
    "from mpl_toolkits.mplot3d import axes3d\n",
    "\n",
    "L=10\n",
    "n=2048\n",
    "t2=linspace(0,L,n+1)\n",
    "t=t2[0:n]\n",
    "\n",
    "S= 3*sin(2*t)+0.5*tanh(0.5*(t-3))-0.2*exp(-(t-4)**2)+ \\\n",
    "                       1.5*sin(5*t)+0.4*cos(3*(t-6)**2)+(t/20)**3 \n",
    "\n",
    "k=(2*pi/L)*concatenate([arange(n/2),arange(-n/2,0,1)])\n",
    "ks=fft.fftshift(k)\n",
    "\n",
    "width=array([10,1,0.2])\n",
    "slice=linspace(0,10,11)\n",
    "\n",
    "fig1 = figure(figsize=(8,8))\n",
    "ax1=fig1.subplots(3)\n",
    "Sgtv=zeros((len(slice),n))\n",
    "for i in range(len(slice)):\n",
    "    \n",
    "    g=exp(-width[0]*(t-slice[i])**2)\n",
    "    Sg=S*g\n",
    "    Sgt=fft.fft(Sg)\n",
    "    Sgtv[i,:]=abs(fft.fftshift(Sgt))\n",
    "    ax1[0].cla()\n",
    "    ax1[0].plot(t,S,t,g)\n",
    "    ax1[0].legend(['time signal','time filter'])\n",
    "    ax1[1].cla()\n",
    "    ax1[1].plot(t,Sg)\n",
    "    ax1[1].legend('filter output')\n",
    "    ax1[2].cla()\n",
    "    ax1[2].plot(ks,abs(fft.fftshift(Sgt))/max(abs(Sgt)))\n",
    "    ax1[2].legend('frequency spectrum')\n",
    "    xlim(-60,60)\n",
    "    \n",
    "    pause(0.5)\n",
    "    \n",
    "Ks,Slice=meshgrid(ks,slice)\n",
    "\n",
    "# close(fig1)\n",
    "fig2=figure()\n",
    "ax2=fig2.gca(projection='3d')\n",
    "ax2.plot_surface(Slice[:,923:1123],Ks[:,923:1123],Sgtv[:,923:1123], \\\n",
    "                 cmap='gist_earth')\n",
    "ax2.view_init(elev=90,azim=0) \n",
    "ax2.set_title('Multi-Resolution Analysis (Time-Frequecny Spectrum)');"
   ]
  },
  {
   "cell_type": "code",
   "execution_count": null,
   "id": "stupid-framing",
   "metadata": {},
   "outputs": [],
   "source": []
  }
 ],
 "metadata": {
  "kernelspec": {
   "display_name": "Python 3",
   "language": "python",
   "name": "python3"
  },
  "language_info": {
   "codemirror_mode": {
    "name": "ipython",
    "version": 3
   },
   "file_extension": ".py",
   "mimetype": "text/x-python",
   "name": "python",
   "nbconvert_exporter": "python",
   "pygments_lexer": "ipython3",
   "version": "3.8.5"
  }
 },
 "nbformat": 4,
 "nbformat_minor": 5
}
