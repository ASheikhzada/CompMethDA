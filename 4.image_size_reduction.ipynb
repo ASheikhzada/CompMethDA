{
 "cells": [
  {
   "cell_type": "markdown",
   "id": "dressed-transfer",
   "metadata": {},
   "source": [
    "Lecture 9&10: To reduce the size of the image(data) and reconstruct it \n",
    "using filtering the fft content. To illustrate this, using two different filters of Gaussian\n",
    "and step function we choose the main part of Fourier image and reconstruct the image using\n",
    "only that part."
   ]
  },
  {
   "cell_type": "code",
   "execution_count": null,
   "id": "square-hello",
   "metadata": {},
   "outputs": [],
   "source": [
    "%pylab"
   ]
  },
  {
   "cell_type": "code",
   "execution_count": null,
   "id": "modified-backing",
   "metadata": {},
   "outputs": [],
   "source": [
    "from skimage.color import rgb2gray\n",
    "\n",
    "pathtophoto = \"./Sharbat_Gula.jpg\"\n",
    "A = imread(pathtophoto)\n",
    "# imshow(A)\n",
    "\n",
    "Abw = rgb2gray(A)   # Abw.shape is (400,254) and is float\n",
    "# imshow(Abw)\n",
    "    \n",
    "noise = 0.5\n",
    "Abw = Abw + noise*randn(400,254)\n",
    "# figure()\n",
    "# imshow(Abw)\n",
    "\n",
    "Abwt = fftshift(fft.fft2(Abw))\n",
    "# figure()\n",
    "# imshow(log(abs(Abwt)))\n",
    "\n",
    "kx = arange(1,255)\n",
    "ky = arange(1,401)\n",
    "Kx,Ky = meshgrid(kx,ky)\n",
    "\n",
    "# width = 0.01\n",
    "# F = exp(-width*(Kx-128)**2-width*(Ky-201)**2)    # Gaussian filtering\n",
    "\n",
    "width = 40\n",
    "length=20\n",
    "F = zeros((400,254))\n",
    "F[201-width:201+width,127-length:127+length] = \\\n",
    "ones((2*width,2*length))    # step function filtering\n",
    "\n",
    "# figure()\n",
    "# imshow(F)\n",
    "\n",
    "Abwtf = Abwt*F\n",
    "Abw_reconstructed = abs(ifft2(ifftshift(Abwtf)))\n",
    "figure()\n",
    "imshow(Abw_reconstructed);"
   ]
  }
 ],
 "metadata": {
  "kernelspec": {
   "display_name": "Python 3",
   "language": "python",
   "name": "python3"
  },
  "language_info": {
   "codemirror_mode": {
    "name": "ipython",
    "version": 3
   },
   "file_extension": ".py",
   "mimetype": "text/x-python",
   "name": "python",
   "nbconvert_exporter": "python",
   "pygments_lexer": "ipython3",
   "version": "3.8.5"
  }
 },
 "nbformat": 4,
 "nbformat_minor": 5
}
