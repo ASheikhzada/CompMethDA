{
 "cells": [
  {
   "cell_type": "markdown",
   "id": "sorted-lender",
   "metadata": {},
   "source": [
    "Lecture 3: To show that translation of time signal does not change the frequecy spectrum."
   ]
  },
  {
   "cell_type": "code",
   "execution_count": null,
   "id": "impossible-circumstances",
   "metadata": {},
   "outputs": [],
   "source": [
    "# python MATLAB-like environment\n",
    "\n",
    "%pylab    \n",
    "# %pylab inline"
   ]
  },
  {
   "cell_type": "markdown",
   "id": "secondary-disease",
   "metadata": {},
   "source": [
    "Shifting a time signal by some time stride does not change the frequency specturm."
   ]
  },
  {
   "cell_type": "code",
   "execution_count": null,
   "id": "amino-effect",
   "metadata": {},
   "outputs": [],
   "source": [
    "T=60\n",
    "n=512\n",
    "t2=linspace(-T/2,T/2,n+1)\n",
    "t=t2[0:n]\n",
    "\n",
    "s = linspace(0,10,21)\n",
    "Ts,S = meshgrid(t,s)\n",
    "\n",
    "U = 1/cosh(Ts-10*sin(S))\n",
    "\n",
    "k = (2*pi/T)*concatenate([arange(n/2),arange(-n/2,0,1)])\n",
    "ks = fft.fftshift(k)\n",
    "\n",
    "[Ks,S] = meshgrid(ks,s)\n",
    "\n",
    "noise=5\n",
    "Ut = zeros((len(s),n),dtype=complex)\n",
    "Un = zeros((len(s),n),dtype=complex)\n",
    "for i in range(len(s)):\n",
    "    Ut[i,:]=fft.fft(U[i,:])+noise*(random.randn(n)+1j*random.randn(n))\n",
    "    Un[i,:]=fft.ifft(Ut[i,:])\n",
    "    \n",
    "from mpl_toolkits.mplot3d import axes3d\n",
    "\n",
    "fig = figure()\n",
    "# ax1= fig.add_subplot(211, projection='3d')\n",
    "ax1 = fig.gca(projection='3d')\n",
    "ax1.plot_wireframe(Ts,S,abs(fft.fftshift(Un)),rstride=1,cstride=0) \n",
    "ax1.view_init(elev=75,azim=-60)\n",
    "ax1.set_title('moving noisy time signal (time signal shifted by 0.5s )');\n",
    "\n",
    "# ax2 = fig.add_subplot(212, projection='3d')\n",
    "fig = figure()\n",
    "ax2 = fig.gca(projection='3d')\n",
    "ax2.plot_wireframe(Ks,S,abs(fft.fftshift(Ut)),rstride=1,cstride=0) \n",
    "ax2.view_init(elev=75,azim=-60)\n",
    "ax2.set_title('Fourier spectrum of moving time signal doesn\\'t change with time shift');"
   ]
  }
 ],
 "metadata": {
  "kernelspec": {
   "display_name": "Python 3",
   "language": "python",
   "name": "python3"
  },
  "language_info": {
   "codemirror_mode": {
    "name": "ipython",
    "version": 3
   },
   "file_extension": ".py",
   "mimetype": "text/x-python",
   "name": "python",
   "nbconvert_exporter": "python",
   "pygments_lexer": "ipython3",
   "version": "3.8.5"
  }
 },
 "nbformat": 4,
 "nbformat_minor": 5
}
