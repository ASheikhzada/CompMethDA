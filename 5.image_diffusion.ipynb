{
 "cells": [
  {
   "cell_type": "markdown",
   "id": "collaborative-consultancy",
   "metadata": {},
   "source": [
    "Lecture 11: Smoothing a noisy image using diffusion equation, the key here is to know\n",
    "    when the smoothing should be stopped so as not to remove too much of image content. It can be shown that linear filtering with Gaussian is equivalent to linear diffusion."
   ]
  },
  {
   "cell_type": "code",
   "execution_count": null,
   "id": "endless-revision",
   "metadata": {},
   "outputs": [],
   "source": [
    "%pylab"
   ]
  },
  {
   "cell_type": "code",
   "execution_count": null,
   "id": "christian-technician",
   "metadata": {},
   "outputs": [],
   "source": [
    "from skimage.color import rgb2gray\n",
    "from scipy.integrate import solve_ivp\n",
    "\n",
    "A = imread(\"./Sharbat_Gula.jpg\")\n",
    "\n",
    "Abw = rgb2gray(A)\n",
    "nx,ny = Abw.shape\n",
    "\n",
    "noise = 0.5\n",
    "An = Abw + noise*randn(nx,ny)\n",
    "\n",
    "from scipy.sparse import spdiags,kron\n",
    "x = linspace(0,1,nx)\n",
    "dx = x[1]-x[0]\n",
    "y = linspace(0,1,ny)\n",
    "dy = y[1]-y[0]\n",
    "\n",
    "e1x = ones(nx)\n",
    "e1y = ones(ny)\n",
    "Dx = spdiags([e1x,-2*e1x,e1x],[-1,0,1],nx,nx) / dx**2  # laplacian matrix in x dimension \n",
    "Dy = spdiags([e1y,-2*e1y,e1y],[-1,0,1],ny,ny) / dy**2\n",
    "\n",
    "Ix = eye(nx)\n",
    "Iy = eye(ny)\n",
    "L = kron(Iy,Dx) + kron(Dy,Ix)     # constructs laplacian in two dimension using kron command\n",
    "\n",
    "D = 0.0005   # diffusion constant\n",
    "u0 = reshape(An,(nx*ny),'F')    # 'F':fortran-like(as matlab), 'C': C-like, should change L\n",
    "\n",
    "def image_rhs(t,u,D,L):\n",
    "    return D*L.dot(u)\n",
    "\n",
    "t0 = 0\n",
    "tf = 0.1\n",
    "sol = solve_ivp(image_rhs,[t0,tf],u0,t_eval=arange(0,tf,tf/10),\\\n",
    "                args=(D,L))   # add more options\n",
    "\n",
    "for i in range(len(sol.t)):\n",
    "    imshow(reshape(sol.y[:,i],(nx,ny),'F'))\n",
    "    pause(0.2)"
   ]
  }
 ],
 "metadata": {
  "kernelspec": {
   "display_name": "Python 3",
   "language": "python",
   "name": "python3"
  },
  "language_info": {
   "codemirror_mode": {
    "name": "ipython",
    "version": 3
   },
   "file_extension": ".py",
   "mimetype": "text/x-python",
   "name": "python",
   "nbconvert_exporter": "python",
   "pygments_lexer": "ipython3",
   "version": "3.8.5"
  }
 },
 "nbformat": 4,
 "nbformat_minor": 5
}
