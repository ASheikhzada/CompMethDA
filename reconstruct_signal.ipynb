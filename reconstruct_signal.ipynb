{
 "cells": [
  {
   "cell_type": "markdown",
   "id": "powered-ideal",
   "metadata": {},
   "source": [
    "Lectures 1&2 : How to reconstruct a signal from a noisy one by applying Fourier transform filters"
   ]
  },
  {
   "cell_type": "code",
   "execution_count": null,
   "id": "working-pollution",
   "metadata": {},
   "outputs": [],
   "source": [
    "%pylab"
   ]
  },
  {
   "cell_type": "code",
   "execution_count": null,
   "id": "western-indie",
   "metadata": {},
   "outputs": [],
   "source": [
    "Define a clean time signal and apply white noise to its fft image:"
   ]
  },
  {
   "cell_type": "code",
   "execution_count": null,
   "id": "decent-portsmouth",
   "metadata": {},
   "outputs": [],
   "source": [
    "T=30\n",
    "n=512\n",
    "t2=linspace(-T/2,T/2,n+1)\n",
    "t=t2[0:n]\n",
    "u=1/cosh(t)  #1/cosh = sech\n",
    "\n",
    "k = (2*pi/T)*concatenate([arange(n/2),arange(-n/2,0,1)])\n",
    "ks = fft.fftshift(k)\n",
    "\n",
    "ut = fft.fft(u)     \n",
    "noise = 2      # strength of noise\n",
    "utn = ut + noise*(random.randn(n) + 1j*random.randn(n))  # signal + white noise\n",
    "\n",
    "un = abs(fft.ifft(utn))\n",
    "\n",
    "plot(t,u,'-b',t,un,'-r')\n",
    "legend(['original','noisy'])\n"
   ]
  },
  {
   "cell_type": "markdown",
   "id": "excited-sweet",
   "metadata": {},
   "source": [
    "This block shows how white noise converges to zero and original signal appears by taking more samples"
   ]
  },
  {
   "cell_type": "code",
   "execution_count": null,
   "id": "stopped-luxury",
   "metadata": {},
   "outputs": [],
   "source": [
    "utavg=zeros(n,dtype=complex)   \n",
    "\n",
    "noise = 20;\n",
    "for i in range(100):\n",
    "    utn = ut + noise*(random.randn(n)+1j*random.randn(n))\n",
    "    utavg=utavg+utn\n",
    "    utavg2=abs(fft.fftshift(utavg))/(i+1)\n",
    "    cla()\n",
    "    plot(ks,abs(fft.fftshift(ut)),'-b',ks,utavg2,'-r')\n",
    "    pause(0.2)"
   ]
  },
  {
   "cell_type": "markdown",
   "id": "normal-provision",
   "metadata": {},
   "source": [
    "By applying a gaussin filter we can reconstruct a signal to some extend. \n",
    "The strength of the resulting signal depend on the shape and the location of filter."
   ]
  },
  {
   "cell_type": "code",
   "execution_count": null,
   "id": "outdoor-headquarters",
   "metadata": {},
   "outputs": [],
   "source": [
    "k0 = -5\n",
    "fltr = exp(-(k-k0)**2)   # filter applied to capture the strength of frequency k=k0\n",
    "utnf = utn*fltr\n",
    "unf = abs(fft.ifft(utnf))\n",
    "\n",
    "subplot(2,1,1)\n",
    "plot(t,u,'-b',t,un,'-g',t,unf,'-m',t,0.5*ones(len(t)),'--k')\n",
    "legend(['original','noisy signal','reconstructed','baseline'])\n",
    "\n",
    "subplot(2,1,2)\n",
    "plot(ks,abs(fft.fftshift(ut))/max(abs(ut)),'-r',\\\n",
    "     ks,abs(fft.fftshift(utn))/max(abs(utn)),'-m',\\\n",
    "     ks,fft.fftshift(fltr),'-k')\n",
    "xlim([-10,10])\n",
    "legend(['fft of original signal','fft + white noise','gaussian filter'])\n",
    "\n",
    "# plot(ks,fft.fftshift(angle(ut)))\n",
    "# xlim([-2,2])\n"
   ]
  }
 ],
 "metadata": {
  "kernelspec": {
   "display_name": "Python 3",
   "language": "python",
   "name": "python3"
  },
  "language_info": {
   "codemirror_mode": {
    "name": "ipython",
    "version": 3
   },
   "file_extension": ".py",
   "mimetype": "text/x-python",
   "name": "python",
   "nbconvert_exporter": "python",
   "pygments_lexer": "ipython3",
   "version": "3.8.5"
  }
 },
 "nbformat": 4,
 "nbformat_minor": 5
}
