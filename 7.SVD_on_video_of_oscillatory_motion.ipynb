{
 "cells": [
  {
   "cell_type": "markdown",
   "id": "promotional-judge",
   "metadata": {},
   "source": [
    "HW 2. Principal Component Analysis---or SVD ... \"Could not figure out how to work with thissee the following webpage: http://courses.washington.edu/amath582/582hw2.pdf"
   ]
  },
  {
   "cell_type": "code",
   "execution_count": 1,
   "id": "polished-forth",
   "metadata": {},
   "outputs": [
    {
     "name": "stdout",
     "output_type": "stream",
     "text": [
      "Using matplotlib backend: Qt5Agg\n",
      "Populating the interactive namespace from numpy and matplotlib\n"
     ]
    }
   ],
   "source": [
    "%pylab"
   ]
  },
  {
   "cell_type": "code",
   "execution_count": 2,
   "id": "decimal-machine",
   "metadata": {},
   "outputs": [],
   "source": [
    "import scipy.io as sio                   # to import matlab data\n",
    "from skimage.color import rgb2gray       # gray frames to avoid dealing with extra dimension\n",
    "\n",
    "# load the file and store in a numpy array\n",
    "cam11 = sio.loadmat(\"cam1_1.mat\")\n",
    "vidFrames11 = cam11['vidFrames1_1']\n",
    "m,n,p,q = vidFrames11.shape"
   ]
  },
  {
   "cell_type": "markdown",
   "id": "numeric-semester",
   "metadata": {},
   "source": [
    "To watch the original movie"
   ]
  },
  {
   "cell_type": "code",
   "execution_count": 3,
   "id": "confirmed-promise",
   "metadata": {},
   "outputs": [],
   "source": [
    "for jj in range(q):                    \n",
    "    cla()\n",
    "    imshow(vidFrames11[:,:,:,jj])\n",
    "    pause(0.1)"
   ]
  },
  {
   "cell_type": "markdown",
   "id": "continental-slave",
   "metadata": {},
   "source": [
    "Perform SVD calculations"
   ]
  },
  {
   "cell_type": "code",
   "execution_count": null,
   "id": "hawaiian-button",
   "metadata": {},
   "outputs": [],
   "source": [
    "# Reduce from rgb to 2D gray frames\n",
    "frame = zeros((q,m*n))\n",
    "for i in range(q):\n",
    "    frame[i,:] = reshape(rgb2gray(vidFrames11[:,:,:,i]),(m*n),'F')\n",
    "    \n",
    "# Perform SVD to capture the main components of array\n",
    "u,s,vh = linalg.svd(frame,full_matrices=False)\n",
    "figure()\n",
    "plot(s[:10],'ro')"
   ]
  },
  {
   "cell_type": "code",
   "execution_count": 2,
   "id": "rising-circus",
   "metadata": {},
   "outputs": [],
   "source": [
    "# Extract the main component in one frame\n",
    "num_modes = 1\n",
    "for ii in range(num_modes):\n",
    "    fframe = dot(u[:,:ii+1]*s[:ii+1],vh[:ii+1,:])\n",
    "    \n",
    "# for jj in range(q):\n",
    "#     cla()\n",
    "#     imshow(reshape(fframe[jj,:],(m,n),'F'))\n",
    "#     pause(0.1)"
   ]
  }
 ],
 "metadata": {
  "kernelspec": {
   "display_name": "Python 3",
   "language": "python",
   "name": "python3"
  },
  "language_info": {
   "codemirror_mode": {
    "name": "ipython",
    "version": 3
   },
   "file_extension": ".py",
   "mimetype": "text/x-python",
   "name": "python",
   "nbconvert_exporter": "python",
   "pygments_lexer": "ipython3",
   "version": "3.8.5"
  }
 },
 "nbformat": 4,
 "nbformat_minor": 5
}
